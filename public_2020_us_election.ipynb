{
  "cells": [
    {
      "cell_type": "raw",
      "source": [
        "# R - Republican 共和党\n",
        "# D - Democratic 民主党\n",
        "\n",
        "# Benford's Law - Move to the section and see the chart \n",
        "# 本福特定律，拉下去看图，3条线分别是川普，拜登和本福特的期望值"
      ],
      "metadata": {}
    },
    {
      "cell_type": "code",
      "source": [
        "import pandas as pd\n",
        "import numpy as np\n",
        "import pickle\n",
        "import matplotlib.pyplot as plt\n",
        "import json\n",
        "\n",
        "pd.options.display.max_rows = 100"
      ],
      "outputs": [],
      "execution_count": 1,
      "metadata": {}
    },
    {
      "cell_type": "code",
      "source": [
        "dfs = pd.read_html('https://en.wikipedia.org/wiki/List_of_states_and_territories_of_the_United_States')\n",
        "states = [s.replace('[E]', '').replace(' ', '-').lower() for s in list(\n",
        "    dfs[0]['Flag, name andpostal abbreviation[12]']['Flag, name andpostal abbreviation[12]']\n",
        ")]\n",
        "', '.join(states)"
      ],
      "outputs": [
        {
          "output_type": "execute_result",
          "execution_count": 2,
          "data": {
            "text/plain": "'alabama, alaska, arizona, arkansas, california, colorado, connecticut, delaware, florida, georgia, hawaii, idaho, illinois, indiana, iowa, kansas, kentucky, louisiana, maine, maryland, massachusetts, michigan, minnesota, mississippi, missouri, montana, nebraska, nevada, new-hampshire, new-jersey, new-mexico, new-york, north-carolina, north-dakota, ohio, oklahoma, oregon, pennsylvania, rhode-island, south-carolina, south-dakota, tennessee, texas, utah, vermont, virginia, washington, west-virginia, wisconsin, wyoming'"
          },
          "metadata": {}
        }
      ],
      "execution_count": 2,
      "metadata": {}
    },
    {
      "cell_type": "code",
      "source": [
        "# from https://worldpopulationreview.com/state-rankings/blue-states\n",
        "# and  https://worldpopulationreview.com/state-rankings/red-states\n",
        "blue = '''California\n",
        "Connecticut\n",
        "Delaware\n",
        "Hawaii\n",
        "Illinois\n",
        "Maryland\n",
        "Massachusetts\n",
        "Minnesota\n",
        "New Jersey\n",
        "New Mexico\n",
        "New York\n",
        "Oregon\n",
        "Rhode Island\n",
        "Vermont\n",
        "Washington'''\n",
        "\n",
        "red = '''Alabama\n",
        "Alaska\n",
        "Idaho\n",
        "Kansas\n",
        "Montana\n",
        "Nebraska\n",
        "North Dakota\n",
        "Oklahoma\n",
        "South Carolina\n",
        "South Dakota\n",
        "Tennessee\n",
        "Utah\n",
        "Wyoming'''\n",
        "\n",
        "swing_states = list(set(['pennsylvania', 'michigan', 'wisconsin', 'arizona', 'florida', 'north-carolina', 'nevada']))\n",
        "blue_states = list(set([b.replace(' ', '-').lower() for b in blue.split('\\n')]))\n",
        "red_states = list(set([r.replace(' ', '-').lower() for r in red.split('\\n')]))\n",
        "\n",
        "print(f'BLUE STATES: {blue_states}')\n",
        "print(f'RED STATES: {red_states}')\n",
        "print(f'SWING STATES: {swing_states}')"
      ],
      "outputs": [
        {
          "output_type": "stream",
          "name": "stdout",
          "text": [
            "BLUE STATES: ['california', 'vermont', 'massachusetts', 'new-jersey', 'connecticut', 'delaware', 'illinois', 'oregon', 'washington', 'hawaii', 'new-mexico', 'rhode-island', 'maryland', 'minnesota', 'new-york']\n",
            "RED STATES: ['wyoming', 'alabama', 'oklahoma', 'nebraska', 'kansas', 'north-dakota', 'tennessee', 'utah', 'montana', 'south-dakota', 'idaho', 'alaska', 'south-carolina']\n",
            "SWING STATES: ['michigan', 'pennsylvania', 'wisconsin', 'arizona', 'north-carolina', 'florida', 'nevada']\n"
          ]
        }
      ],
      "execution_count": 3,
      "metadata": {
        "scrolled": false
      }
    },
    {
      "cell_type": "code",
      "source": [
        "g_cache = {}\n",
        "\n",
        "def load_webpage(url, df_index):\n",
        "    if url not in g_cache.keys():\n",
        "        page = pd.read_html(url)\n",
        "        g_cache[url] = page\n",
        "    return g_cache[url][df_index]\n",
        "    \n",
        "def load_state(state):\n",
        "    print(f'loading data for state {state}')\n",
        "    df = load_webpage(f'https://www.nytimes.com/interactive/2020/11/03/us/elections/results-{state}.html', 1)\n",
        "    df = pd.DataFrame(df.iloc[:-1]) # last row is 'view results'\n",
        "    df['Total votes'] = df['Total votes'].astype(int)\n",
        "    df['State'] = state\n",
        "    return df.sort_values('Total votes', ascending = False)\n",
        "\n",
        "def load_2016_state(state):\n",
        "    print(f'loading 2016 data for state {state}')\n",
        "    df = load_webpage(f'https://www.nytimes.com/elections/2016/results/{state}', 1)\n",
        "    election_2016 = pd.DataFrame(df.iloc[:-1]).rename(columns={'Vote by county':'County'}) # last one is NaN\n",
        "    election_2016['State'] = state\n",
        "    # election_2016['TotalVotes2016'] = election_2016['Trump'] + election_2016['Clinton']\n",
        "    return election_2016"
      ],
      "outputs": [],
      "execution_count": 4,
      "metadata": {}
    },
    {
      "cell_type": "code",
      "source": [
        "def load_from_cache_or_web(pkl_name, loading_func):\n",
        "    try:\n",
        "        us_df = pd.read_pickle(pkl_name)\n",
        "    except:\n",
        "        result = {}\n",
        "        for s in states:\n",
        "            s = s.lower()\n",
        "            result[s] = loading_func(s)\n",
        "\n",
        "        us_df = pd.concat(result.values())\n",
        "        us_df.to_pickle(pkl_name)\n",
        "    finally:\n",
        "        print(f'{pkl_name} Total: {len(us_df)}')\n",
        "        display(us_df.head())\n",
        "        return us_df\n",
        "\n",
        "us_df = load_from_cache_or_web('./2020_election_data.pickle', load_state)\n",
        "us_2016_df = load_from_cache_or_web('./2016_election_data.pickle', load_2016_state)"
      ],
      "outputs": [
        {
          "output_type": "stream",
          "name": "stdout",
          "text": [
            "./2020_election_data.pickle Total: 4623\n"
          ]
        },
        {
          "output_type": "display_data",
          "data": {
            "text/html": "<div>\n<style scoped>\n    .dataframe tbody tr th:only-of-type {\n        vertical-align: middle;\n    }\n\n    .dataframe tbody tr th {\n        vertical-align: top;\n    }\n\n    .dataframe thead th {\n        text-align: right;\n    }\n</style>\n<table border=\"1\" class=\"dataframe\">\n  <thead>\n    <tr style=\"text-align: right;\">\n      <th></th>\n      <th>County</th>\n      <th>Margin</th>\n      <th>2016 margin</th>\n      <th>Est. votes reported</th>\n      <th>Est. votes reported.1</th>\n      <th>Total votes</th>\n      <th>Absentee</th>\n      <th>State</th>\n      <th>District</th>\n      <th>Town</th>\n      <th>Parish</th>\n    </tr>\n  </thead>\n  <tbody>\n    <tr>\n      <th>4</th>\n      <td>Jefferson</td>\n      <td>Biden +13</td>\n      <td>D+7.3</td>\n      <td>&gt;98%</td>\n      <td>NaN</td>\n      <td>324675</td>\n      <td>—</td>\n      <td>alabama</td>\n      <td>NaN</td>\n      <td>NaN</td>\n      <td>NaN</td>\n    </tr>\n    <tr>\n      <th>5</th>\n      <td>Madison</td>\n      <td>Trump +8</td>\n      <td>R+16.3</td>\n      <td>&gt;98%</td>\n      <td>NaN</td>\n      <td>193955</td>\n      <td>—</td>\n      <td>alabama</td>\n      <td>NaN</td>\n      <td>NaN</td>\n      <td>NaN</td>\n    </tr>\n    <tr>\n      <th>0</th>\n      <td>Mobile</td>\n      <td>Trump +12</td>\n      <td>R+13.3</td>\n      <td>93%</td>\n      <td>NaN</td>\n      <td>181783</td>\n      <td>—</td>\n      <td>alabama</td>\n      <td>NaN</td>\n      <td>NaN</td>\n      <td>NaN</td>\n    </tr>\n    <tr>\n      <th>6</th>\n      <td>Shelby</td>\n      <td>Trump +41</td>\n      <td>R+49.4</td>\n      <td>&gt;98%</td>\n      <td>NaN</td>\n      <td>114439</td>\n      <td>—</td>\n      <td>alabama</td>\n      <td>NaN</td>\n      <td>NaN</td>\n      <td>NaN</td>\n    </tr>\n    <tr>\n      <th>7</th>\n      <td>Baldwin</td>\n      <td>Trump +54</td>\n      <td>R+57.2</td>\n      <td>&gt;98%</td>\n      <td>NaN</td>\n      <td>108945</td>\n      <td>—</td>\n      <td>alabama</td>\n      <td>NaN</td>\n      <td>NaN</td>\n      <td>NaN</td>\n    </tr>\n  </tbody>\n</table>\n</div>",
            "text/plain": "      County     Margin 2016 margin Est. votes reported Est. votes reported.1  \\\n4  Jefferson  Biden +13       D+7.3                >98%                   NaN   \n5    Madison   Trump +8      R+16.3                >98%                   NaN   \n0     Mobile  Trump +12      R+13.3                 93%                   NaN   \n6     Shelby  Trump +41      R+49.4                >98%                   NaN   \n7    Baldwin  Trump +54      R+57.2                >98%                   NaN   \n\n   Total votes Absentee    State District Town Parish  \n4       324675        —  alabama      NaN  NaN    NaN  \n5       193955        —  alabama      NaN  NaN    NaN  \n0       181783        —  alabama      NaN  NaN    NaN  \n6       114439        —  alabama      NaN  NaN    NaN  \n7       108945        —  alabama      NaN  NaN    NaN  "
          },
          "metadata": {}
        },
        {
          "output_type": "stream",
          "name": "stdout",
          "text": [
            "./2016_election_data.pickle Total: 4590\n"
          ]
        },
        {
          "output_type": "display_data",
          "data": {
            "text/html": "<div>\n<style scoped>\n    .dataframe tbody tr th:only-of-type {\n        vertical-align: middle;\n    }\n\n    .dataframe tbody tr th {\n        vertical-align: top;\n    }\n\n    .dataframe thead th {\n        text-align: right;\n    }\n</style>\n<table border=\"1\" class=\"dataframe\">\n  <thead>\n    <tr style=\"text-align: right;\">\n      <th></th>\n      <th>County</th>\n      <th>Trump</th>\n      <th>Clinton</th>\n      <th>State</th>\n      <th>Candidate</th>\n      <th>Candidate.1</th>\n      <th>Party</th>\n      <th>Votes</th>\n      <th>Pct.</th>\n      <th>Unnamed: 5</th>\n      <th>Vote by town</th>\n    </tr>\n  </thead>\n  <tbody>\n    <tr>\n      <th>0</th>\n      <td>Jefferson</td>\n      <td>134768.0</td>\n      <td>156873.0</td>\n      <td>alabama</td>\n      <td>NaN</td>\n      <td>NaN</td>\n      <td>NaN</td>\n      <td>NaN</td>\n      <td>NaN</td>\n      <td>NaN</td>\n      <td>NaN</td>\n    </tr>\n    <tr>\n      <th>1</th>\n      <td>Mobile</td>\n      <td>95116.0</td>\n      <td>72186.0</td>\n      <td>alabama</td>\n      <td>NaN</td>\n      <td>NaN</td>\n      <td>NaN</td>\n      <td>NaN</td>\n      <td>NaN</td>\n      <td>NaN</td>\n      <td>NaN</td>\n    </tr>\n    <tr>\n      <th>2</th>\n      <td>Madison</td>\n      <td>89520.0</td>\n      <td>62822.0</td>\n      <td>alabama</td>\n      <td>NaN</td>\n      <td>NaN</td>\n      <td>NaN</td>\n      <td>NaN</td>\n      <td>NaN</td>\n      <td>NaN</td>\n      <td>NaN</td>\n    </tr>\n    <tr>\n      <th>3</th>\n      <td>Shelby</td>\n      <td>73020.0</td>\n      <td>22977.0</td>\n      <td>alabama</td>\n      <td>NaN</td>\n      <td>NaN</td>\n      <td>NaN</td>\n      <td>NaN</td>\n      <td>NaN</td>\n      <td>NaN</td>\n      <td>NaN</td>\n    </tr>\n    <tr>\n      <th>4</th>\n      <td>Montgomery</td>\n      <td>34003.0</td>\n      <td>58916.0</td>\n      <td>alabama</td>\n      <td>NaN</td>\n      <td>NaN</td>\n      <td>NaN</td>\n      <td>NaN</td>\n      <td>NaN</td>\n      <td>NaN</td>\n      <td>NaN</td>\n    </tr>\n  </tbody>\n</table>\n</div>",
            "text/plain": "       County     Trump   Clinton    State  Candidate Candidate.1 Party  \\\n0   Jefferson  134768.0  156873.0  alabama        NaN         NaN   NaN   \n1      Mobile   95116.0   72186.0  alabama        NaN         NaN   NaN   \n2     Madison   89520.0   62822.0  alabama        NaN         NaN   NaN   \n3      Shelby   73020.0   22977.0  alabama        NaN         NaN   NaN   \n4  Montgomery   34003.0   58916.0  alabama        NaN         NaN   NaN   \n\n   Votes Pct.  Unnamed: 5 Vote by town  \n0    NaN  NaN         NaN          NaN  \n1    NaN  NaN         NaN          NaN  \n2    NaN  NaN         NaN          NaN  \n3    NaN  NaN         NaN          NaN  \n4    NaN  NaN         NaN          NaN  "
          },
          "metadata": {}
        }
      ],
      "execution_count": 5,
      "metadata": {
        "scrolled": false
      }
    },
    {
      "cell_type": "code",
      "source": [
        "# assuming other parties are very minimal and won't affect the votes estimation\n",
        "us_df['2020_Who'] = np.where(us_df['Margin'].str.split('+', expand=True)[0].str.strip() == 'Biden','D','R')\n",
        "us_df['2020_Margin'] = pd.to_numeric(us_df['Margin'].str.split('+', expand=True)[1])\n",
        "us_df['2016_Who'] = us_df['2016 margin'].str.split('+', expand=True)[0].str.strip()\n",
        "us_df['2016_Margin'] = pd.to_numeric(us_df['2016 margin'].str.split('+', expand=True)[1])\n",
        "us_df.head()"
      ],
      "outputs": [
        {
          "output_type": "execute_result",
          "execution_count": 6,
          "data": {
            "text/html": "<div>\n<style scoped>\n    .dataframe tbody tr th:only-of-type {\n        vertical-align: middle;\n    }\n\n    .dataframe tbody tr th {\n        vertical-align: top;\n    }\n\n    .dataframe thead th {\n        text-align: right;\n    }\n</style>\n<table border=\"1\" class=\"dataframe\">\n  <thead>\n    <tr style=\"text-align: right;\">\n      <th></th>\n      <th>County</th>\n      <th>Margin</th>\n      <th>2016 margin</th>\n      <th>Est. votes reported</th>\n      <th>Est. votes reported.1</th>\n      <th>Total votes</th>\n      <th>Absentee</th>\n      <th>State</th>\n      <th>District</th>\n      <th>Town</th>\n      <th>Parish</th>\n      <th>2020_Who</th>\n      <th>2020_Margin</th>\n      <th>2016_Who</th>\n      <th>2016_Margin</th>\n    </tr>\n  </thead>\n  <tbody>\n    <tr>\n      <th>4</th>\n      <td>Jefferson</td>\n      <td>Biden +13</td>\n      <td>D+7.3</td>\n      <td>&gt;98%</td>\n      <td>NaN</td>\n      <td>324675</td>\n      <td>—</td>\n      <td>alabama</td>\n      <td>NaN</td>\n      <td>NaN</td>\n      <td>NaN</td>\n      <td>D</td>\n      <td>13.0</td>\n      <td>D</td>\n      <td>7.3</td>\n    </tr>\n    <tr>\n      <th>5</th>\n      <td>Madison</td>\n      <td>Trump +8</td>\n      <td>R+16.3</td>\n      <td>&gt;98%</td>\n      <td>NaN</td>\n      <td>193955</td>\n      <td>—</td>\n      <td>alabama</td>\n      <td>NaN</td>\n      <td>NaN</td>\n      <td>NaN</td>\n      <td>R</td>\n      <td>8.0</td>\n      <td>R</td>\n      <td>16.3</td>\n    </tr>\n    <tr>\n      <th>0</th>\n      <td>Mobile</td>\n      <td>Trump +12</td>\n      <td>R+13.3</td>\n      <td>93%</td>\n      <td>NaN</td>\n      <td>181783</td>\n      <td>—</td>\n      <td>alabama</td>\n      <td>NaN</td>\n      <td>NaN</td>\n      <td>NaN</td>\n      <td>R</td>\n      <td>12.0</td>\n      <td>R</td>\n      <td>13.3</td>\n    </tr>\n    <tr>\n      <th>6</th>\n      <td>Shelby</td>\n      <td>Trump +41</td>\n      <td>R+49.4</td>\n      <td>&gt;98%</td>\n      <td>NaN</td>\n      <td>114439</td>\n      <td>—</td>\n      <td>alabama</td>\n      <td>NaN</td>\n      <td>NaN</td>\n      <td>NaN</td>\n      <td>R</td>\n      <td>41.0</td>\n      <td>R</td>\n      <td>49.4</td>\n    </tr>\n    <tr>\n      <th>7</th>\n      <td>Baldwin</td>\n      <td>Trump +54</td>\n      <td>R+57.2</td>\n      <td>&gt;98%</td>\n      <td>NaN</td>\n      <td>108945</td>\n      <td>—</td>\n      <td>alabama</td>\n      <td>NaN</td>\n      <td>NaN</td>\n      <td>NaN</td>\n      <td>R</td>\n      <td>54.0</td>\n      <td>R</td>\n      <td>57.2</td>\n    </tr>\n  </tbody>\n</table>\n</div>",
            "text/plain": "      County     Margin 2016 margin Est. votes reported Est. votes reported.1  \\\n4  Jefferson  Biden +13       D+7.3                >98%                   NaN   \n5    Madison   Trump +8      R+16.3                >98%                   NaN   \n0     Mobile  Trump +12      R+13.3                 93%                   NaN   \n6     Shelby  Trump +41      R+49.4                >98%                   NaN   \n7    Baldwin  Trump +54      R+57.2                >98%                   NaN   \n\n   Total votes Absentee    State District Town Parish 2020_Who  2020_Margin  \\\n4       324675        —  alabama      NaN  NaN    NaN        D         13.0   \n5       193955        —  alabama      NaN  NaN    NaN        R          8.0   \n0       181783        —  alabama      NaN  NaN    NaN        R         12.0   \n6       114439        —  alabama      NaN  NaN    NaN        R         41.0   \n7       108945        —  alabama      NaN  NaN    NaN        R         54.0   \n\n  2016_Who  2016_Margin  \n4        D          7.3  \n5        R         16.3  \n0        R         13.3  \n6        R         49.4  \n7        R         57.2  "
          },
          "metadata": {}
        }
      ],
      "execution_count": 6,
      "metadata": {
        "scrolled": true
      }
    },
    {
      "cell_type": "code",
      "source": [
        "us_df[us_df['2016_Who'].isnull()].State.unique()"
      ],
      "outputs": [
        {
          "output_type": "execute_result",
          "execution_count": 7,
          "data": {
            "text/plain": "array(['alaska', 'connecticut', 'maine', 'massachusetts', 'new-hampshire',\n       'rhode-island', 'vermont'], dtype=object)"
          },
          "metadata": {}
        }
      ],
      "execution_count": 7,
      "metadata": {}
    },
    {
      "cell_type": "markdown",
      "source": [
        "# Shifting to a different party"
      ],
      "metadata": {}
    },
    {
      "cell_type": "code",
      "source": [
        "vote_count_threshold = 10000\n",
        "has_2016_data = us_df[~us_df['2016_Who'].isnull()]\n",
        "shifted = has_2016_data.loc[lambda x: x['2020_Who'] != x['2016_Who']].loc[lambda x: x['Total votes'] > vote_count_threshold]\n",
        "#display(shifted)\n",
        "print(\"% of the county shifted to a different party : \" + str(len(shifted) / len(has_2016_data)))\n",
        "\n",
        "def print_q(df):\n",
        "    print('Margin Percentile: ')\n",
        "    print((df['2020_Margin'] + df['2016_Margin']).quantile([0.25, 0.5, 0.75, 0.9, 0.95, 0.99]))\n",
        "\n",
        "to_d = shifted.loc[lambda x: x['2020_Who'] == 'D']\n",
        "to_r = shifted.loc[lambda x: x['2020_Who'] == 'R']\n",
        "\n",
        "def against_df(msg, df):\n",
        "    print('------')\n",
        "    print(msg)\n",
        "    print('------')\n",
        "    print(f'len : {len(df)}')\n",
        "    print_q(df)\n",
        "    print(f'States: {df.State.unique()}')\n",
        "    \n",
        "print(f'From R to D: {len(to_d)}, From D to R: {len(to_r)}')\n",
        "\n",
        "against_df('From R to D', to_d)\n",
        "against_df('From D to R', to_r)\n",
        "\n",
        "print('States that only move to D:')\n",
        "display(set(to_d.State.unique()) - set(to_r.State.unique()))\n",
        "print('States that only move to R:')\n",
        "display(set(to_r.State.unique()) - set(to_d.State.unique()))"
      ],
      "outputs": [
        {
          "output_type": "stream",
          "name": "stdout",
          "text": [
            "% of the county shifted to a different party : 0.020374630299046993\n",
            "From R to D: 46, From D to R: 16\n",
            "------\n",
            "From R to D\n",
            "------\n",
            "len : 46\n",
            "Margin Percentile: \n",
            "0.25     4.625\n",
            "0.50     6.045\n",
            "0.75     9.325\n",
            "0.90    11.400\n",
            "0.95    11.725\n",
            "0.99    14.915\n",
            "dtype: float64\n",
            "States: ['arizona' 'california' 'colorado' 'florida' 'illinois' 'indiana' 'kansas'\n",
            " 'maryland' 'michigan' 'minnesota' 'mississippi' 'new-jersey'\n",
            " 'north-carolina' 'ohio' 'oregon' 'pennsylvania' 'texas' 'virginia'\n",
            " 'washington' 'wisconsin' 'wyoming']\n",
            "------\n",
            "From D to R\n",
            "------\n",
            "len : 16\n",
            "Margin Percentile: \n",
            "0.25     3.040\n",
            "0.50     6.050\n",
            "0.75     9.975\n",
            "0.90    17.550\n",
            "0.95    18.500\n",
            "0.99    19.940\n",
            "dtype: float64\n",
            "States: ['georgia' 'illinois' 'mississippi' 'new-york' 'north-carolina' 'ohio'\n",
            " 'south-carolina' 'texas']\n",
            "States that only move to D:\n"
          ]
        },
        {
          "output_type": "display_data",
          "data": {
            "text/plain": "{'arizona',\n 'california',\n 'colorado',\n 'florida',\n 'indiana',\n 'kansas',\n 'maryland',\n 'michigan',\n 'minnesota',\n 'new-jersey',\n 'oregon',\n 'pennsylvania',\n 'virginia',\n 'washington',\n 'wisconsin',\n 'wyoming'}"
          },
          "metadata": {}
        },
        {
          "output_type": "stream",
          "name": "stdout",
          "text": [
            "States that only move to R:\n"
          ]
        },
        {
          "output_type": "display_data",
          "data": {
            "text/plain": "{'georgia', 'new-york', 'south-carolina'}"
          },
          "metadata": {}
        }
      ],
      "execution_count": 8,
      "metadata": {
        "scrolled": true
      }
    },
    {
      "cell_type": "markdown",
      "source": [
        "# Margin correlation between 2020 and 2016"
      ],
      "metadata": {}
    },
    {
      "cell_type": "code",
      "source": [
        "has_2016_data[['2020_Margin', '2016_Margin']].corr()"
      ],
      "outputs": [
        {
          "output_type": "execute_result",
          "execution_count": 9,
          "data": {
            "text/html": "<div>\n<style scoped>\n    .dataframe tbody tr th:only-of-type {\n        vertical-align: middle;\n    }\n\n    .dataframe tbody tr th {\n        vertical-align: top;\n    }\n\n    .dataframe thead th {\n        text-align: right;\n    }\n</style>\n<table border=\"1\" class=\"dataframe\">\n  <thead>\n    <tr style=\"text-align: right;\">\n      <th></th>\n      <th>2020_Margin</th>\n      <th>2016_Margin</th>\n    </tr>\n  </thead>\n  <tbody>\n    <tr>\n      <th>2020_Margin</th>\n      <td>1.000000</td>\n      <td>0.969693</td>\n    </tr>\n    <tr>\n      <th>2016_Margin</th>\n      <td>0.969693</td>\n      <td>1.000000</td>\n    </tr>\n  </tbody>\n</table>\n</div>",
            "text/plain": "             2020_Margin  2016_Margin\n2020_Margin     1.000000     0.969693\n2016_Margin     0.969693     1.000000"
          },
          "metadata": {}
        }
      ],
      "execution_count": 9,
      "metadata": {}
    },
    {
      "cell_type": "code",
      "source": [
        "# ignore small counties\n",
        "has_2016_data.loc[lambda x: x['Total votes'] > 5000].corr()"
      ],
      "outputs": [
        {
          "output_type": "execute_result",
          "execution_count": 10,
          "data": {
            "text/html": "<div>\n<style scoped>\n    .dataframe tbody tr th:only-of-type {\n        vertical-align: middle;\n    }\n\n    .dataframe tbody tr th {\n        vertical-align: top;\n    }\n\n    .dataframe thead th {\n        text-align: right;\n    }\n</style>\n<table border=\"1\" class=\"dataframe\">\n  <thead>\n    <tr style=\"text-align: right;\">\n      <th></th>\n      <th>Total votes</th>\n      <th>2020_Margin</th>\n      <th>2016_Margin</th>\n    </tr>\n  </thead>\n  <tbody>\n    <tr>\n      <th>Total votes</th>\n      <td>1.000000</td>\n      <td>-0.173026</td>\n      <td>-0.167425</td>\n    </tr>\n    <tr>\n      <th>2020_Margin</th>\n      <td>-0.173026</td>\n      <td>1.000000</td>\n      <td>0.965963</td>\n    </tr>\n    <tr>\n      <th>2016_Margin</th>\n      <td>-0.167425</td>\n      <td>0.965963</td>\n      <td>1.000000</td>\n    </tr>\n  </tbody>\n</table>\n</div>",
            "text/plain": "             Total votes  2020_Margin  2016_Margin\nTotal votes     1.000000    -0.173026    -0.167425\n2020_Margin    -0.173026     1.000000     0.965963\n2016_Margin    -0.167425     0.965963     1.000000"
          },
          "metadata": {}
        }
      ],
      "execution_count": 10,
      "metadata": {}
    },
    {
      "cell_type": "markdown",
      "source": [
        "# Benford's Law"
      ],
      "metadata": {}
    },
    {
      "cell_type": "code",
      "source": [
        "# use margin to estimate the vote count, this isn't accurate as other parties \n",
        "# also has a margin of the total votes, but shouldn't be a big ammount\n",
        "ben_df = pd.DataFrame(us_df[['State', 'Total votes', '2020_Who', '2020_Margin', 'County']]\\\n",
        "                      .loc[lambda x: ~x['2020_Margin'].isnull()])\n",
        "ben_df['BidenVotes'] = np.where(\n",
        "    ben_df['2020_Who'] == 'D',\n",
        "    ben_df['Total votes'] * ((100 + ben_df['2020_Margin']) / 200),\n",
        "    ben_df['Total votes'] * ((100 - ben_df['2020_Margin']) / 200)\n",
        ").astype(int)\n",
        "ben_df['TrumpVotes'] = ben_df['Total votes'] - ben_df['BidenVotes']\n",
        "ben_df['BidenVotesLeadingDig'] = ben_df['BidenVotes'].astype(str).str[0]\n",
        "ben_df['TrumpVotesLeadingDig'] = ben_df['TrumpVotes'].astype(str).str[0]\n",
        "display(ben_df.head())"
      ],
      "outputs": [
        {
          "output_type": "display_data",
          "data": {
            "text/html": "<div>\n<style scoped>\n    .dataframe tbody tr th:only-of-type {\n        vertical-align: middle;\n    }\n\n    .dataframe tbody tr th {\n        vertical-align: top;\n    }\n\n    .dataframe thead th {\n        text-align: right;\n    }\n</style>\n<table border=\"1\" class=\"dataframe\">\n  <thead>\n    <tr style=\"text-align: right;\">\n      <th></th>\n      <th>State</th>\n      <th>Total votes</th>\n      <th>2020_Who</th>\n      <th>2020_Margin</th>\n      <th>County</th>\n      <th>BidenVotes</th>\n      <th>TrumpVotes</th>\n      <th>BidenVotesLeadingDig</th>\n      <th>TrumpVotesLeadingDig</th>\n    </tr>\n  </thead>\n  <tbody>\n    <tr>\n      <th>4</th>\n      <td>alabama</td>\n      <td>324675</td>\n      <td>D</td>\n      <td>13.0</td>\n      <td>Jefferson</td>\n      <td>183441</td>\n      <td>141234</td>\n      <td>1</td>\n      <td>1</td>\n    </tr>\n    <tr>\n      <th>5</th>\n      <td>alabama</td>\n      <td>193955</td>\n      <td>R</td>\n      <td>8.0</td>\n      <td>Madison</td>\n      <td>89219</td>\n      <td>104736</td>\n      <td>8</td>\n      <td>1</td>\n    </tr>\n    <tr>\n      <th>0</th>\n      <td>alabama</td>\n      <td>181783</td>\n      <td>R</td>\n      <td>12.0</td>\n      <td>Mobile</td>\n      <td>79984</td>\n      <td>101799</td>\n      <td>7</td>\n      <td>1</td>\n    </tr>\n    <tr>\n      <th>6</th>\n      <td>alabama</td>\n      <td>114439</td>\n      <td>R</td>\n      <td>41.0</td>\n      <td>Shelby</td>\n      <td>33759</td>\n      <td>80680</td>\n      <td>3</td>\n      <td>8</td>\n    </tr>\n    <tr>\n      <th>7</th>\n      <td>alabama</td>\n      <td>108945</td>\n      <td>R</td>\n      <td>54.0</td>\n      <td>Baldwin</td>\n      <td>25057</td>\n      <td>83888</td>\n      <td>2</td>\n      <td>8</td>\n    </tr>\n  </tbody>\n</table>\n</div>",
            "text/plain": "     State  Total votes 2020_Who  2020_Margin     County  BidenVotes  \\\n4  alabama       324675        D         13.0  Jefferson      183441   \n5  alabama       193955        R          8.0    Madison       89219   \n0  alabama       181783        R         12.0     Mobile       79984   \n6  alabama       114439        R         41.0     Shelby       33759   \n7  alabama       108945        R         54.0    Baldwin       25057   \n\n   TrumpVotes BidenVotesLeadingDig TrumpVotesLeadingDig  \n4      141234                    1                    1  \n5      104736                    8                    1  \n0      101799                    7                    1  \n6       80680                    3                    8  \n7       83888                    2                    8  "
          },
          "metadata": {}
        }
      ],
      "execution_count": 11,
      "metadata": {}
    },
    {
      "cell_type": "code",
      "source": [
        "dfs = pd.read_html('https://en.wikipedia.org/wiki/Benford%27s_law')\n",
        "exp_ben = dfs[4][\"In Benford's law\"][\"In Benford's law\"].str.replace('%','').astype(float) / 100\n",
        "exp_ben.index = exp_ben.index + 1\n",
        "exp_ben"
      ],
      "outputs": [
        {
          "output_type": "execute_result",
          "execution_count": 12,
          "data": {
            "text/plain": "1    0.301\n2    0.176\n3    0.125\n4    0.097\n5    0.079\n6    0.067\n7    0.058\n8    0.051\n9    0.046\nName: In Benford's law, dtype: float64"
          },
          "metadata": {}
        }
      ],
      "execution_count": 12,
      "metadata": {}
    },
    {
      "cell_type": "code",
      "source": [
        "final_ben_df = pd.DataFrame({\n",
        "    'LeadingDigit' : range(1, 10),\n",
        "    \n",
        "    'BenExp': list(exp_ben),\n",
        "    \n",
        "    'Biden' :  ben_df.groupby('BidenVotesLeadingDig').BidenVotesLeadingDig.count() / len(ben_df),\n",
        "    \n",
        "    # YES, there exists one county in NH with total 5 votes that all going to Biden :-)\n",
        "    'Trump' :  ben_df.loc[ben_df['TrumpVotesLeadingDig'] != '0']\\\n",
        "        .groupby('TrumpVotesLeadingDig').BidenVotesLeadingDig.count() / len(ben_df),\n",
        "})\n",
        "final_ben_df.index = final_ben_df['LeadingDigit']\n",
        "del final_ben_df['LeadingDigit']\n",
        "final_ben_df"
      ],
      "outputs": [
        {
          "output_type": "execute_result",
          "execution_count": 13,
          "data": {
            "text/html": "<div>\n<style scoped>\n    .dataframe tbody tr th:only-of-type {\n        vertical-align: middle;\n    }\n\n    .dataframe tbody tr th {\n        vertical-align: top;\n    }\n\n    .dataframe thead th {\n        text-align: right;\n    }\n</style>\n<table border=\"1\" class=\"dataframe\">\n  <thead>\n    <tr style=\"text-align: right;\">\n      <th></th>\n      <th>BenExp</th>\n      <th>Biden</th>\n      <th>Trump</th>\n    </tr>\n    <tr>\n      <th>LeadingDigit</th>\n      <th></th>\n      <th></th>\n      <th></th>\n    </tr>\n  </thead>\n  <tbody>\n    <tr>\n      <th>1</th>\n      <td>0.301</td>\n      <td>0.287091</td>\n      <td>0.286867</td>\n    </tr>\n    <tr>\n      <th>2</th>\n      <td>0.176</td>\n      <td>0.183550</td>\n      <td>0.169431</td>\n    </tr>\n    <tr>\n      <th>3</th>\n      <td>0.125</td>\n      <td>0.124832</td>\n      <td>0.122815</td>\n    </tr>\n    <tr>\n      <th>4</th>\n      <td>0.097</td>\n      <td>0.110040</td>\n      <td>0.105558</td>\n    </tr>\n    <tr>\n      <th>5</th>\n      <td>0.079</td>\n      <td>0.070148</td>\n      <td>0.087853</td>\n    </tr>\n    <tr>\n      <th>6</th>\n      <td>0.067</td>\n      <td>0.067683</td>\n      <td>0.067683</td>\n    </tr>\n    <tr>\n      <th>7</th>\n      <td>0.058</td>\n      <td>0.058046</td>\n      <td>0.055805</td>\n    </tr>\n    <tr>\n      <th>8</th>\n      <td>0.051</td>\n      <td>0.045944</td>\n      <td>0.058270</td>\n    </tr>\n    <tr>\n      <th>9</th>\n      <td>0.046</td>\n      <td>0.052667</td>\n      <td>0.045495</td>\n    </tr>\n  </tbody>\n</table>\n</div>",
            "text/plain": "              BenExp     Biden     Trump\nLeadingDigit                            \n1              0.301  0.287091  0.286867\n2              0.176  0.183550  0.169431\n3              0.125  0.124832  0.122815\n4              0.097  0.110040  0.105558\n5              0.079  0.070148  0.087853\n6              0.067  0.067683  0.067683\n7              0.058  0.058046  0.055805\n8              0.051  0.045944  0.058270\n9              0.046  0.052667  0.045495"
          },
          "metadata": {}
        }
      ],
      "execution_count": 13,
      "metadata": {}
    },
    {
      "cell_type": "code",
      "source": [
        "final_ben_df.plot(title='Benfords Law For Expectation/Biden/Trump')"
      ],
      "outputs": [
        {
          "output_type": "execute_result",
          "execution_count": 14,
          "data": {
            "text/plain": "<AxesSubplot:title={'center':'Benfords Law For Expectation/Biden/Trump'}, xlabel='LeadingDigit'>"
          },
          "metadata": {}
        },
        {
          "output_type": "display_data",
          "data": {
            "image/png": "[encoded data removed]",
            "text/plain": "<Figure size 432x288 with 1 Axes>"
          },
          "metadata": {
            "needs_background": "light"
          }
        }
      ],
      "execution_count": 14,
      "metadata": {}
    },
    {
      "cell_type": "markdown",
      "source": [
        "# The delta in the swing states\n",
        "\n",
        "1. Look at 2016 Trump v.s. Clinton data, calculate the R %\n",
        "2. Look at 2020 Trump v.s. Biden data, calculate the R %\n",
        "3. Look at the growth (2020 votes - 2016 votes), `ideally` the growth for the R % shall be close to 1. Otherwise, this could mean \n",
        "    - the younger people(?) are more leaning towards the D \n",
        "    - mailing ballots are more from young people, as this is probably more accessible and convenient. \n",
        "    - fraud votes from D, across all counties ???"
      ],
      "metadata": {}
    },
    {
      "cell_type": "code",
      "source": [
        "def delta_analysis_for_state(state, _ax):\n",
        "    # print(f'====== {state} ======')\n",
        "    \n",
        "    election_2016 = pd.DataFrame(us_2016_df.loc[lambda x: x.State == state])\n",
        "    election_2016['TotalVotes2016'] = election_2016['Trump'] + election_2016['Clinton']\n",
        "\n",
        "    election_2020 = ben_df.loc[lambda x: x.State == state][\n",
        "        ['2020_Who', 'Total votes','County', 'BidenVotes', 'TrumpVotes']]\\\n",
        "        .rename(columns={'Total votes' : 'TotalVotes2020'})\n",
        "\n",
        "    #print('2016 PA data: ')\n",
        "    #display(election_2016.head())\n",
        "    #print('2020 PA data: ')\n",
        "    #display(election_2020.head())\n",
        "\n",
        "    compare_df = election_2020.merge(election_2016, left_on='County', right_on='County')\n",
        "    compare_df['Delta'] = compare_df['TotalVotes2020'] - compare_df['TotalVotes2016']\n",
        "    compare_df['Delta_D'] = compare_df['BidenVotes'] - compare_df['Clinton']\n",
        "    compare_df['Delta_R'] = compare_df['TrumpVotes'] - compare_df['Trump']\n",
        "    compare_df['2016 R %'] = compare_df['Trump'] / (compare_df['Clinton'] + compare_df['Trump'])\n",
        "    compare_df['2020 R %'] = compare_df['TrumpVotes'] / (compare_df['BidenVotes'] + compare_df['TrumpVotes'])\n",
        "    compare_df['2020 Delta R %'] = compare_df['Delta_R'] / (compare_df['Delta_D'] + compare_df['Delta_R'])\n",
        "    compare_df = compare_df.sort_values('TotalVotes2020', ascending = False)\n",
        "\n",
        "    cols = ['County', 'TotalVotes2020']\n",
        "    cols.extend(\n",
        "        list(filter(lambda x: \"R %\" in x, compare_df.columns))\n",
        "    )\n",
        "    #display(compare_df[cols].head(1))\n",
        "    compare_df['Diff'] = compare_df['2020 Delta R %'] - compare_df['2016 R %']\n",
        "    compare_df = compare_df.sort_values(by='Diff')\n",
        "    _ax.bar(height = compare_df['Diff'], x = compare_df['County'])\n",
        "    _ax.set_title(f'{state}')"
      ],
      "outputs": [],
      "execution_count": 15,
      "metadata": {
        "scrolled": true
      }
    },
    {
      "cell_type": "code",
      "source": [
        "# Height represents the delta of the R % in the new voters v.s. 2016 voters\n",
        "# The more closer to 0, more stable it is\n",
        "num = len(swing_states)\n",
        "fig, axs = plt.subplots(num, 1,  figsize=(8, num * 4))\n",
        "\n",
        "i = 0\n",
        "for s in swing_states:\n",
        "    delta_analysis_for_state(s, axs[i])\n",
        "    i += 1"
      ],
      "outputs": [
        {
          "output_type": "display_data",
          "data": {
            "image/png": "[encoded data removed]",
            "text/plain": "<Figure size 576x2016 with 7 Axes>"
          },
          "metadata": {
            "needs_background": "light"
          }
        }
      ],
      "execution_count": 16,
      "metadata": {
        "scrolled": false
      }
    },
    {
      "cell_type": "markdown",
      "source": [
        "# Senate votes V.S. Presidental Votes"
      ],
      "metadata": {}
    },
    {
      "cell_type": "code",
      "source": [
        "def get_senate_vs_presidental(state):\n",
        "    try:\n",
        "        print(f'Loading {state}')\n",
        "        president = load_webpage(f'https://www.nytimes.com/interactive/2020/11/03/us/elections/results-{state}.html', 0)\n",
        "        senate = load_webpage(f'https://www.nytimes.com/interactive/2020/11/03/us/elections/results-{state}.html', 3)\n",
        "        senate_total = senate.loc[lambda x: x['Candidate.1'] == 'Total reported Total reported']['Votes']\n",
        "        #display(senate)\n",
        "        president_total = president.loc[lambda x: x['Candidate.1'] == 'Total reported Total reported']['Votes']\n",
        "        # display(president)\n",
        "        return {\n",
        "            'State' : state,\n",
        "            'Senate' : senate_total.values[0],\n",
        "            'President' : president_total.values[0]\n",
        "        }\n",
        "    except:\n",
        "        # some states doesn't have senate data\n",
        "        return {\n",
        "            'State' : state,\n",
        "            'Senate' : -1,\n",
        "            'President' : -1\n",
        "        }\n",
        "\n",
        "results = [get_senate_vs_presidental(s) for s in states]"
      ],
      "outputs": [
        {
          "output_type": "stream",
          "name": "stdout",
          "text": [
            "Loading alabama\n",
            "Loading alaska\n",
            "Loading arizona\n",
            "Loading arkansas\n",
            "Loading california\n",
            "Loading colorado\n",
            "Loading connecticut\n",
            "Loading delaware\n",
            "Loading florida\n",
            "Loading georgia\n",
            "Loading hawaii\n",
            "Loading idaho\n",
            "Loading illinois\n",
            "Loading indiana\n",
            "Loading iowa\n",
            "Loading kansas\n",
            "Loading kentucky\n",
            "Loading louisiana\n",
            "Loading maine\n",
            "Loading maryland\n",
            "Loading massachusetts\n",
            "Loading michigan\n",
            "Loading minnesota\n",
            "Loading mississippi\n",
            "Loading missouri\n",
            "Loading montana\n",
            "Loading nebraska\n",
            "Loading nevada\n",
            "Loading new-hampshire\n",
            "Loading new-jersey\n",
            "Loading new-mexico\n",
            "Loading new-york\n",
            "Loading north-carolina\n",
            "Loading north-dakota\n",
            "Loading ohio\n",
            "Loading oklahoma\n",
            "Loading oregon\n",
            "Loading pennsylvania\n",
            "Loading rhode-island\n",
            "Loading south-carolina\n",
            "Loading south-dakota\n",
            "Loading tennessee\n",
            "Loading texas\n",
            "Loading utah\n",
            "Loading vermont\n",
            "Loading virginia\n",
            "Loading washington\n",
            "Loading west-virginia\n",
            "Loading wisconsin\n",
            "Loading wyoming\n"
          ]
        }
      ],
      "execution_count": 17,
      "metadata": {
        "scrolled": true
      }
    },
    {
      "cell_type": "code",
      "source": [
        "s_vs_p = pd.DataFrame.from_dict(results).loc[lambda x: x.Senate != -1]\n",
        "s_vs_p['President'] = s_vs_p['President'].astype(int)\n",
        "s_vs_p['Senate'] = s_vs_p['Senate'].astype(int)\n",
        "s_vs_p['(P - S) / S'] = (s_vs_p['President'] - s_vs_p['Senate']) / s_vs_p['Senate']\n",
        "\n",
        "def _f(kw, states):\n",
        "    x = s_vs_p.loc[lambda x: x.State.isin(states)]\n",
        "    mean = x['(P - S) / S'].mean()\n",
        "    print(f'{kw} States: (P-S)/S Avg: {mean}')\n",
        "    display(x)\n",
        "\n",
        "_f('Swing', swing_states)\n",
        "_f('Blue', blue_states)\n",
        "_f('Red', red_states)\n",
        "\n",
        "# conclusion: no evidence showing that Blue States only vote for the president, not senate"
      ],
      "outputs": [
        {
          "output_type": "stream",
          "name": "stdout",
          "text": [
            "Swing States: (P-S)/S Avg: 0.009843121422780148\n"
          ]
        },
        {
          "output_type": "display_data",
          "data": {
            "text/html": "<div>\n<style scoped>\n    .dataframe tbody tr th:only-of-type {\n        vertical-align: middle;\n    }\n\n    .dataframe tbody tr th {\n        vertical-align: top;\n    }\n\n    .dataframe thead th {\n        text-align: right;\n    }\n</style>\n<table border=\"1\" class=\"dataframe\">\n  <thead>\n    <tr style=\"text-align: right;\">\n      <th></th>\n      <th>State</th>\n      <th>Senate</th>\n      <th>President</th>\n      <th>(P - S) / S</th>\n    </tr>\n  </thead>\n  <tbody>\n    <tr>\n      <th>2</th>\n      <td>arizona</td>\n      <td>3336172</td>\n      <td>3366867</td>\n      <td>0.009201</td>\n    </tr>\n    <tr>\n      <th>21</th>\n      <td>michigan</td>\n      <td>5462906</td>\n      <td>5531329</td>\n      <td>0.012525</td>\n    </tr>\n    <tr>\n      <th>32</th>\n      <td>north-carolina</td>\n      <td>5432052</td>\n      <td>5474442</td>\n      <td>0.007804</td>\n    </tr>\n  </tbody>\n</table>\n</div>",
            "text/plain": "             State   Senate  President  (P - S) / S\n2          arizona  3336172    3366867     0.009201\n21        michigan  5462906    5531329     0.012525\n32  north-carolina  5432052    5474442     0.007804"
          },
          "metadata": {}
        },
        {
          "output_type": "stream",
          "name": "stdout",
          "text": [
            "Blue States: (P-S)/S Avg: 0.01896304581839479\n"
          ]
        },
        {
          "output_type": "display_data",
          "data": {
            "text/html": "<div>\n<style scoped>\n    .dataframe tbody tr th:only-of-type {\n        vertical-align: middle;\n    }\n\n    .dataframe tbody tr th {\n        vertical-align: top;\n    }\n\n    .dataframe thead th {\n        text-align: right;\n    }\n</style>\n<table border=\"1\" class=\"dataframe\">\n  <thead>\n    <tr style=\"text-align: right;\">\n      <th></th>\n      <th>State</th>\n      <th>Senate</th>\n      <th>President</th>\n      <th>(P - S) / S</th>\n    </tr>\n  </thead>\n  <tbody>\n    <tr>\n      <th>7</th>\n      <td>delaware</td>\n      <td>490935</td>\n      <td>504010</td>\n      <td>0.026633</td>\n    </tr>\n    <tr>\n      <th>12</th>\n      <td>illinois</td>\n      <td>5698137</td>\n      <td>5766283</td>\n      <td>0.011959</td>\n    </tr>\n    <tr>\n      <th>20</th>\n      <td>massachusetts</td>\n      <td>3343516</td>\n      <td>3482216</td>\n      <td>0.041483</td>\n    </tr>\n    <tr>\n      <th>22</th>\n      <td>minnesota</td>\n      <td>3214950</td>\n      <td>3272469</td>\n      <td>0.017891</td>\n    </tr>\n    <tr>\n      <th>29</th>\n      <td>new-jersey</td>\n      <td>3934476</td>\n      <td>4033007</td>\n      <td>0.025043</td>\n    </tr>\n    <tr>\n      <th>30</th>\n      <td>new-mexico</td>\n      <td>914619</td>\n      <td>921308</td>\n      <td>0.007313</td>\n    </tr>\n    <tr>\n      <th>36</th>\n      <td>oregon</td>\n      <td>2296395</td>\n      <td>2349283</td>\n      <td>0.023031</td>\n    </tr>\n    <tr>\n      <th>44</th>\n      <td>vermont</td>\n      <td>362628</td>\n      <td>367432</td>\n      <td>0.013248</td>\n    </tr>\n    <tr>\n      <th>46</th>\n      <td>washington</td>\n      <td>3988383</td>\n      <td>4004599</td>\n      <td>0.004066</td>\n    </tr>\n  </tbody>\n</table>\n</div>",
            "text/plain": "            State   Senate  President  (P - S) / S\n7        delaware   490935     504010     0.026633\n12       illinois  5698137    5766283     0.011959\n20  massachusetts  3343516    3482216     0.041483\n22      minnesota  3214950    3272469     0.017891\n29     new-jersey  3934476    4033007     0.025043\n30     new-mexico   914619     921308     0.007313\n36         oregon  2296395    2349283     0.023031\n44        vermont   362628     367432     0.013248\n46     washington  3988383    4004599     0.004066"
          },
          "metadata": {}
        },
        {
          "output_type": "stream",
          "name": "stdout",
          "text": [
            "Red States: (P-S)/S Avg: 0.01809305974400425\n"
          ]
        },
        {
          "output_type": "display_data",
          "data": {
            "text/html": "<div>\n<style scoped>\n    .dataframe tbody tr th:only-of-type {\n        vertical-align: middle;\n    }\n\n    .dataframe tbody tr th {\n        vertical-align: top;\n    }\n\n    .dataframe thead th {\n        text-align: right;\n    }\n</style>\n<table border=\"1\" class=\"dataframe\">\n  <thead>\n    <tr style=\"text-align: right;\">\n      <th></th>\n      <th>State</th>\n      <th>Senate</th>\n      <th>President</th>\n      <th>(P - S) / S</th>\n    </tr>\n  </thead>\n  <tbody>\n    <tr>\n      <th>0</th>\n      <td>alabama</td>\n      <td>2303212</td>\n      <td>2309900</td>\n      <td>0.002904</td>\n    </tr>\n    <tr>\n      <th>1</th>\n      <td>alaska</td>\n      <td>260193</td>\n      <td>260983</td>\n      <td>0.003036</td>\n    </tr>\n    <tr>\n      <th>11</th>\n      <td>idaho</td>\n      <td>858780</td>\n      <td>867971</td>\n      <td>0.010702</td>\n    </tr>\n    <tr>\n      <th>15</th>\n      <td>kansas</td>\n      <td>1330054</td>\n      <td>1334330</td>\n      <td>0.003215</td>\n    </tr>\n    <tr>\n      <th>25</th>\n      <td>montana</td>\n      <td>602736</td>\n      <td>602781</td>\n      <td>0.000075</td>\n    </tr>\n    <tr>\n      <th>26</th>\n      <td>nebraska</td>\n      <td>893061</td>\n      <td>942480</td>\n      <td>0.055337</td>\n    </tr>\n    <tr>\n      <th>33</th>\n      <td>north-dakota</td>\n      <td>339980</td>\n      <td>361656</td>\n      <td>0.063757</td>\n    </tr>\n    <tr>\n      <th>35</th>\n      <td>oklahoma</td>\n      <td>1556361</td>\n      <td>1560699</td>\n      <td>0.002787</td>\n    </tr>\n    <tr>\n      <th>39</th>\n      <td>south-carolina</td>\n      <td>2512810</td>\n      <td>2513329</td>\n      <td>0.000207</td>\n    </tr>\n    <tr>\n      <th>40</th>\n      <td>south-dakota</td>\n      <td>420219</td>\n      <td>422609</td>\n      <td>0.005688</td>\n    </tr>\n    <tr>\n      <th>41</th>\n      <td>tennessee</td>\n      <td>2941711</td>\n      <td>3049514</td>\n      <td>0.036646</td>\n    </tr>\n    <tr>\n      <th>43</th>\n      <td>utah</td>\n      <td>1395119</td>\n      <td>1435687</td>\n      <td>0.029079</td>\n    </tr>\n    <tr>\n      <th>49</th>\n      <td>wyoming</td>\n      <td>270866</td>\n      <td>276765</td>\n      <td>0.021778</td>\n    </tr>\n  </tbody>\n</table>\n</div>",
            "text/plain": "             State   Senate  President  (P - S) / S\n0          alabama  2303212    2309900     0.002904\n1           alaska   260193     260983     0.003036\n11           idaho   858780     867971     0.010702\n15          kansas  1330054    1334330     0.003215\n25         montana   602736     602781     0.000075\n26        nebraska   893061     942480     0.055337\n33    north-dakota   339980     361656     0.063757\n35        oklahoma  1556361    1560699     0.002787\n39  south-carolina  2512810    2513329     0.000207\n40    south-dakota   420219     422609     0.005688\n41       tennessee  2941711    3049514     0.036646\n43            utah  1395119    1435687     0.029079\n49         wyoming   270866     276765     0.021778"
          },
          "metadata": {}
        }
      ],
      "execution_count": 18,
      "metadata": {
        "scrolled": false
      }
    },
    {
      "cell_type": "markdown",
      "source": [
        "# State-level timeline data"
      ],
      "metadata": {}
    },
    {
      "cell_type": "code",
      "source": [
        "state = 'georgia'.lower()\n",
        "\n",
        "with open(f'./nytime/{state}.json') as f:\n",
        "    j = json.loads(f.read())\n",
        "\n",
        "df = pd.DataFrame.from_records(j['data']['races'][0]['timeseries'])\n",
        "\n",
        "df = df.sort_values(by='timestamp')#.loc[lambda x: x.index % 5 == 1]\n",
        "\n",
        "display(\n",
        "    df\n",
        ")\n",
        "\n",
        "df['trumpd_share'] = [d['trumpd'] for d in df['vote_shares']]\n",
        "df['bidenj_share'] = [d['bidenj'] for d in df['vote_shares']]\n",
        "df['trumpd'] = (df['trumpd_share'] * df['votes']).astype(int)\n",
        "df['bidenj'] = (df['bidenj_share'] * df['votes']).astype(int)\n",
        "del df['vote_shares']\n",
        "df['Delta_votes'] = df['votes'].diff()\n",
        "df['Delta_Biden'] = df['bidenj'].diff()\n",
        "df['Delta_Trump'] = df['trumpd'].diff()\n",
        "df['Delta_Biden %'] = df['Delta_Biden'] / df['Delta_votes']\n",
        "df['Delta_Trump %'] = df['Delta_Trump'] / df['Delta_votes']\n",
        "df['Ratio'] = df['Delta_Biden %'] / df['Delta_Trump %']\n",
        "# df = df.iloc[1:]\n",
        "# df = df[df['Delta_votes'] > 10000]\n",
        "df"
      ],
      "outputs": [
        {
          "output_type": "display_data",
          "data": {
            "text/html": "<div>\n<style scoped>\n    .dataframe tbody tr th:only-of-type {\n        vertical-align: middle;\n    }\n\n    .dataframe tbody tr th {\n        vertical-align: top;\n    }\n\n    .dataframe thead th {\n        text-align: right;\n    }\n</style>\n<table border=\"1\" class=\"dataframe\">\n  <thead>\n    <tr style=\"text-align: right;\">\n      <th></th>\n      <th>vote_shares</th>\n      <th>votes</th>\n      <th>eevp</th>\n      <th>eevp_source</th>\n      <th>timestamp</th>\n    </tr>\n  </thead>\n  <tbody>\n    <tr>\n      <th>1</th>\n      <td>{'trumpd': 0.674, 'bidenj': 0.326}</td>\n      <td>408</td>\n      <td>0</td>\n      <td>edison</td>\n      <td>2020-11-04T00:14:11Z</td>\n    </tr>\n    <tr>\n      <th>2</th>\n      <td>{'bidenj': 0.618, 'trumpd': 0.37}</td>\n      <td>127106</td>\n      <td>2</td>\n      <td>edison</td>\n      <td>2020-11-04T00:15:51Z</td>\n    </tr>\n    <tr>\n      <th>3</th>\n      <td>{'bidenj': 0.557, 'trumpd': 0.431}</td>\n      <td>173638</td>\n      <td>3</td>\n      <td>edison</td>\n      <td>2020-11-04T00:19:55Z</td>\n    </tr>\n    <tr>\n      <th>4</th>\n      <td>{'bidenj': 0.557, 'trumpd': 0.432}</td>\n      <td>174006</td>\n      <td>3</td>\n      <td>edison</td>\n      <td>2020-11-04T00:21:57Z</td>\n    </tr>\n    <tr>\n      <th>5</th>\n      <td>{'bidenj': 0.556, 'trumpd': 0.433}</td>\n      <td>174448</td>\n      <td>3</td>\n      <td>edison</td>\n      <td>2020-11-04T00:22:23Z</td>\n    </tr>\n    <tr>\n      <th>...</th>\n      <td>...</td>\n      <td>...</td>\n      <td>...</td>\n      <td>...</td>\n      <td>...</td>\n    </tr>\n    <tr>\n      <th>519</th>\n      <td>{'bidenj': 0.495, 'trumpd': 0.493}</td>\n      <td>4986996</td>\n      <td>99</td>\n      <td>edison</td>\n      <td>2020-11-09T22:30:41Z</td>\n    </tr>\n    <tr>\n      <th>520</th>\n      <td>{'bidenj': 0.495, 'trumpd': 0.493}</td>\n      <td>4986997</td>\n      <td>99</td>\n      <td>edison</td>\n      <td>2020-11-09T22:45:42Z</td>\n    </tr>\n    <tr>\n      <th>521</th>\n      <td>{'bidenj': 0.495, 'trumpd': 0.493}</td>\n      <td>4987008</td>\n      <td>99</td>\n      <td>edison</td>\n      <td>2020-11-09T23:35:40Z</td>\n    </tr>\n    <tr>\n      <th>522</th>\n      <td>{'bidenj': 0.495, 'trumpd': 0.493}</td>\n      <td>4988332</td>\n      <td>99</td>\n      <td>edison</td>\n      <td>2020-11-10T01:50:43Z</td>\n    </tr>\n    <tr>\n      <th>523</th>\n      <td>{'bidenj': 0.495, 'trumpd': 0.493}</td>\n      <td>4988335</td>\n      <td>99</td>\n      <td>edison</td>\n      <td>2020-11-10T02:50:19Z</td>\n    </tr>\n  </tbody>\n</table>\n<p>524 rows × 5 columns</p>\n</div>",
            "text/plain": "                            vote_shares    votes  eevp eevp_source  \\\n1    {'trumpd': 0.674, 'bidenj': 0.326}      408     0      edison   \n2     {'bidenj': 0.618, 'trumpd': 0.37}   127106     2      edison   \n3    {'bidenj': 0.557, 'trumpd': 0.431}   173638     3      edison   \n4    {'bidenj': 0.557, 'trumpd': 0.432}   174006     3      edison   \n5    {'bidenj': 0.556, 'trumpd': 0.433}   174448     3      edison   \n..                                  ...      ...   ...         ...   \n519  {'bidenj': 0.495, 'trumpd': 0.493}  4986996    99      edison   \n520  {'bidenj': 0.495, 'trumpd': 0.493}  4986997    99      edison   \n521  {'bidenj': 0.495, 'trumpd': 0.493}  4987008    99      edison   \n522  {'bidenj': 0.495, 'trumpd': 0.493}  4988332    99      edison   \n523  {'bidenj': 0.495, 'trumpd': 0.493}  4988335    99      edison   \n\n                timestamp  \n1    2020-11-04T00:14:11Z  \n2    2020-11-04T00:15:51Z  \n3    2020-11-04T00:19:55Z  \n4    2020-11-04T00:21:57Z  \n5    2020-11-04T00:22:23Z  \n..                    ...  \n519  2020-11-09T22:30:41Z  \n520  2020-11-09T22:45:42Z  \n521  2020-11-09T23:35:40Z  \n522  2020-11-10T01:50:43Z  \n523  2020-11-10T02:50:19Z  \n\n[524 rows x 5 columns]"
          },
          "metadata": {}
        },
        {
          "output_type": "execute_result",
          "execution_count": 19,
          "data": {
            "text/html": "<div>\n<style scoped>\n    .dataframe tbody tr th:only-of-type {\n        vertical-align: middle;\n    }\n\n    .dataframe tbody tr th {\n        vertical-align: top;\n    }\n\n    .dataframe thead th {\n        text-align: right;\n    }\n</style>\n<table border=\"1\" class=\"dataframe\">\n  <thead>\n    <tr style=\"text-align: right;\">\n      <th></th>\n      <th>votes</th>\n      <th>eevp</th>\n      <th>eevp_source</th>\n      <th>timestamp</th>\n      <th>trumpd_share</th>\n      <th>bidenj_share</th>\n      <th>trumpd</th>\n      <th>bidenj</th>\n      <th>Delta_votes</th>\n      <th>Delta_Biden</th>\n      <th>Delta_Trump</th>\n      <th>Delta_Biden %</th>\n      <th>Delta_Trump %</th>\n      <th>Ratio</th>\n    </tr>\n  </thead>\n  <tbody>\n    <tr>\n      <th>1</th>\n      <td>408</td>\n      <td>0</td>\n      <td>edison</td>\n      <td>2020-11-04T00:14:11Z</td>\n      <td>0.674</td>\n      <td>0.326</td>\n      <td>274</td>\n      <td>133</td>\n      <td>NaN</td>\n      <td>NaN</td>\n      <td>NaN</td>\n      <td>NaN</td>\n      <td>NaN</td>\n      <td>NaN</td>\n    </tr>\n    <tr>\n      <th>2</th>\n      <td>127106</td>\n      <td>2</td>\n      <td>edison</td>\n      <td>2020-11-04T00:15:51Z</td>\n      <td>0.370</td>\n      <td>0.618</td>\n      <td>47029</td>\n      <td>78551</td>\n      <td>126698.0</td>\n      <td>78418.0</td>\n      <td>46755.0</td>\n      <td>0.618936</td>\n      <td>0.369027</td>\n      <td>1.677211</td>\n    </tr>\n    <tr>\n      <th>3</th>\n      <td>173638</td>\n      <td>3</td>\n      <td>edison</td>\n      <td>2020-11-04T00:19:55Z</td>\n      <td>0.431</td>\n      <td>0.557</td>\n      <td>74837</td>\n      <td>96716</td>\n      <td>46532.0</td>\n      <td>18165.0</td>\n      <td>27808.0</td>\n      <td>0.390377</td>\n      <td>0.597610</td>\n      <td>0.653229</td>\n    </tr>\n    <tr>\n      <th>4</th>\n      <td>174006</td>\n      <td>3</td>\n      <td>edison</td>\n      <td>2020-11-04T00:21:57Z</td>\n      <td>0.432</td>\n      <td>0.557</td>\n      <td>75170</td>\n      <td>96921</td>\n      <td>368.0</td>\n      <td>205.0</td>\n      <td>333.0</td>\n      <td>0.557065</td>\n      <td>0.904891</td>\n      <td>0.615616</td>\n    </tr>\n    <tr>\n      <th>5</th>\n      <td>174448</td>\n      <td>3</td>\n      <td>edison</td>\n      <td>2020-11-04T00:22:23Z</td>\n      <td>0.433</td>\n      <td>0.556</td>\n      <td>75535</td>\n      <td>96993</td>\n      <td>442.0</td>\n      <td>72.0</td>\n      <td>365.0</td>\n      <td>0.162896</td>\n      <td>0.825792</td>\n      <td>0.197260</td>\n    </tr>\n    <tr>\n      <th>...</th>\n      <td>...</td>\n      <td>...</td>\n      <td>...</td>\n      <td>...</td>\n      <td>...</td>\n      <td>...</td>\n      <td>...</td>\n      <td>...</td>\n      <td>...</td>\n      <td>...</td>\n      <td>...</td>\n      <td>...</td>\n      <td>...</td>\n      <td>...</td>\n    </tr>\n    <tr>\n      <th>519</th>\n      <td>4986996</td>\n      <td>99</td>\n      <td>edison</td>\n      <td>2020-11-09T22:30:41Z</td>\n      <td>0.493</td>\n      <td>0.495</td>\n      <td>2458589</td>\n      <td>2468563</td>\n      <td>362.0</td>\n      <td>180.0</td>\n      <td>179.0</td>\n      <td>0.497238</td>\n      <td>0.494475</td>\n      <td>1.005587</td>\n    </tr>\n    <tr>\n      <th>520</th>\n      <td>4986997</td>\n      <td>99</td>\n      <td>edison</td>\n      <td>2020-11-09T22:45:42Z</td>\n      <td>0.493</td>\n      <td>0.495</td>\n      <td>2458589</td>\n      <td>2468563</td>\n      <td>1.0</td>\n      <td>0.0</td>\n      <td>0.0</td>\n      <td>0.000000</td>\n      <td>0.000000</td>\n      <td>NaN</td>\n    </tr>\n    <tr>\n      <th>521</th>\n      <td>4987008</td>\n      <td>99</td>\n      <td>edison</td>\n      <td>2020-11-09T23:35:40Z</td>\n      <td>0.493</td>\n      <td>0.495</td>\n      <td>2458594</td>\n      <td>2468568</td>\n      <td>11.0</td>\n      <td>5.0</td>\n      <td>5.0</td>\n      <td>0.454545</td>\n      <td>0.454545</td>\n      <td>1.000000</td>\n    </tr>\n    <tr>\n      <th>522</th>\n      <td>4988332</td>\n      <td>99</td>\n      <td>edison</td>\n      <td>2020-11-10T01:50:43Z</td>\n      <td>0.493</td>\n      <td>0.495</td>\n      <td>2459247</td>\n      <td>2469224</td>\n      <td>1324.0</td>\n      <td>656.0</td>\n      <td>653.0</td>\n      <td>0.495468</td>\n      <td>0.493202</td>\n      <td>1.004594</td>\n    </tr>\n    <tr>\n      <th>523</th>\n      <td>4988335</td>\n      <td>99</td>\n      <td>edison</td>\n      <td>2020-11-10T02:50:19Z</td>\n      <td>0.493</td>\n      <td>0.495</td>\n      <td>2459249</td>\n      <td>2469225</td>\n      <td>3.0</td>\n      <td>1.0</td>\n      <td>2.0</td>\n      <td>0.333333</td>\n      <td>0.666667</td>\n      <td>0.500000</td>\n    </tr>\n  </tbody>\n</table>\n<p>524 rows × 14 columns</p>\n</div>",
            "text/plain": "       votes  eevp eevp_source             timestamp  trumpd_share  \\\n1        408     0      edison  2020-11-04T00:14:11Z         0.674   \n2     127106     2      edison  2020-11-04T00:15:51Z         0.370   \n3     173638     3      edison  2020-11-04T00:19:55Z         0.431   \n4     174006     3      edison  2020-11-04T00:21:57Z         0.432   \n5     174448     3      edison  2020-11-04T00:22:23Z         0.433   \n..       ...   ...         ...                   ...           ...   \n519  4986996    99      edison  2020-11-09T22:30:41Z         0.493   \n520  4986997    99      edison  2020-11-09T22:45:42Z         0.493   \n521  4987008    99      edison  2020-11-09T23:35:40Z         0.493   \n522  4988332    99      edison  2020-11-10T01:50:43Z         0.493   \n523  4988335    99      edison  2020-11-10T02:50:19Z         0.493   \n\n     bidenj_share   trumpd   bidenj  Delta_votes  Delta_Biden  Delta_Trump  \\\n1           0.326      274      133          NaN          NaN          NaN   \n2           0.618    47029    78551     126698.0      78418.0      46755.0   \n3           0.557    74837    96716      46532.0      18165.0      27808.0   \n4           0.557    75170    96921        368.0        205.0        333.0   \n5           0.556    75535    96993        442.0         72.0        365.0   \n..            ...      ...      ...          ...          ...          ...   \n519         0.495  2458589  2468563        362.0        180.0        179.0   \n520         0.495  2458589  2468563          1.0          0.0          0.0   \n521         0.495  2458594  2468568         11.0          5.0          5.0   \n522         0.495  2459247  2469224       1324.0        656.0        653.0   \n523         0.495  2459249  2469225          3.0          1.0          2.0   \n\n     Delta_Biden %  Delta_Trump %     Ratio  \n1              NaN            NaN       NaN  \n2         0.618936       0.369027  1.677211  \n3         0.390377       0.597610  0.653229  \n4         0.557065       0.904891  0.615616  \n5         0.162896       0.825792  0.197260  \n..             ...            ...       ...  \n519       0.497238       0.494475  1.005587  \n520       0.000000       0.000000       NaN  \n521       0.454545       0.454545  1.000000  \n522       0.495468       0.493202  1.004594  \n523       0.333333       0.666667  0.500000  \n\n[524 rows x 14 columns]"
          },
          "metadata": {}
        }
      ],
      "execution_count": 19,
      "metadata": {}
    },
    {
      "cell_type": "code",
      "source": [
        "import plotly.graph_objects as go\n",
        "\n",
        "fig = go.Figure()\n",
        "# fig.add_trace(go.Scatter(x=df['timestamp'], y=df['Delta_Trump %'],\n",
        "#                     mode='markers',\n",
        "#                     name='Trump %'))\n",
        "# fig.add_trace(go.Scatter(x=df['timestamp'], y=df['Delta_Biden %'],\n",
        "#                     mode='markers',\n",
        "#                     name='Biden %'))\n",
        "\n",
        "# fig.add_trace(go.Scatter(x=df['timestamp'], y=df['Ratio'],\n",
        "#                     mode='markers',\n",
        "#                     name='Ratio %'))\n",
        "\n",
        "fig.add_trace(go.Scatter(x=df['timestamp'], y=df['Delta_votes'],\n",
        "                    mode='markers',\n",
        "                    name='delta votes'))\n",
        "\n",
        "fig.show()"
      ],
      "outputs": [],
      "execution_count": null,
      "metadata": {}
    },
    {
      "cell_type": "code",
      "source": [
        "# trace from https://www.zerohedge.com/political/it-defies-logic-scientist-finds-telltale-signs-election-fraud-after-analyzing-mail-ballot\n",
        "df = pd.read_csv('./nyt_ts.csv')\n",
        "df['timestamp'] = pd.to_datetime(df['timestamp'])\n",
        "_df = df.loc[lambda x: x['state'] == state].sort_values(by='timestamp')\n",
        "_df['Delta Votes'] = _df['votes'].diff()\n",
        "_df = _df.loc[lambda x: x['Delta Votes'] > 0].loc[lambda x: x['Delta Votes'] < 3000000]\n",
        "_df\n",
        "\n",
        "fig = go.Figure()\n",
        "\n",
        "fig.add_trace(go.Scatter(x=_df['timestamp'], y=_df['Delta Votes'],\n",
        "                    mode='markers',\n",
        "                    name='delta votes'))\n",
        "\n",
        "fig.show()"
      ],
      "outputs": [],
      "execution_count": null,
      "metadata": {}
    }
  ],
  "metadata": {
    "kernelspec": {
      "display_name": "Python 3",
      "language": "python",
      "name": "python3"
    },
    "language_info": {
      "codemirror_mode": {
        "name": "ipython",
        "version": 3
      },
      "file_extension": ".py",
      "mimetype": "text/x-python",
      "name": "python",
      "nbconvert_exporter": "python",
      "pygments_lexer": "ipython3",
      "version": "3.8.6"
    },
    "nteract": {
      "version": "0.25.1"
    }
  },
  "nbformat": 4,
  "nbformat_minor": 4
}