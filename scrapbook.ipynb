{
 "cells": [
  {
   "cell_type": "code",
   "execution_count": null,
   "metadata": {},
   "outputs": [],
   "source": [
    "import scrapbook as sb"
   ]
  },
  {
   "cell_type": "code",
   "execution_count": null,
   "metadata": {},
   "outputs": [],
   "source": [
    "nb = sb.read_notebook('main.ipynb')\n",
    "nb.cells # The cells from the notebook\n",
    "#nb.metadata\n",
    "# nb.nbformat\n",
    "# nb.nbformat_minor\n",
    "\n",
    "for cell in nb.cells:\n",
    "    cell_type = cell['cell_type']\n",
    "    if cell_type == 'code':\n",
    "        print(f'#### CODE ####')\n",
    "        for l in cell['source'].splitlines():\n",
    "            print(f'{l}')\n",
    "    else:\n",
    "        print(f'#### {cell_type} ####')\n",
    "        print(cell)"
   ]
  },
  {
   "cell_type": "code",
   "execution_count": null,
   "metadata": {},
   "outputs": [],
   "source": [
    "{\n",
    "    'cells' : nb.cells,\n",
    "    'metadata' : nb.metadata,\n",
    "    'nbformat' : nb.nbformat,\n",
    "    'nbformat_minor' : nb.nbformat_minor,\n",
    "}"
   ]
  }
 ],
 "metadata": {
  "kernelspec": {
   "display_name": "Python 3",
   "language": "python",
   "name": "python3"
  },
  "language_info": {
   "codemirror_mode": {
    "name": "ipython",
    "version": 3
   },
   "file_extension": ".py",
   "mimetype": "text/x-python",
   "name": "python",
   "nbconvert_exporter": "python",
   "pygments_lexer": "ipython3",
   "version": "3.8.6"
  }
 },
 "nbformat": 4,
 "nbformat_minor": 4
}